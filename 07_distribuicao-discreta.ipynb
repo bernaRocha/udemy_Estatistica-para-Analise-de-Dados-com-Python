{
 "cells": [
  {
   "cell_type": "markdown",
   "id": "aa15b43e",
   "metadata": {},
   "source": [
    "# Distribuição discreta"
   ]
  },
  {
   "cell_type": "code",
   "execution_count": 1,
   "id": "7db073c5",
   "metadata": {},
   "outputs": [],
   "source": [
    "import pandas as pd\n",
    "import numpy as np"
   ]
  },
  {
   "cell_type": "code",
   "execution_count": 4,
   "id": "e3dfee0c",
   "metadata": {},
   "outputs": [],
   "source": [
    "enem_sp = pd.read_csv('data/enem_2019-tratado.csv', sep=',', encoding='iso-8859-1')"
   ]
  },
  {
   "cell_type": "markdown",
   "id": "67921579",
   "metadata": {},
   "source": [
    "## Distribuição binomial"
   ]
  },
  {
   "cell_type": "code",
   "execution_count": 3,
   "id": "5b8ba5af",
   "metadata": {},
   "outputs": [],
   "source": [
    "from scipy.stats import binom"
   ]
  },
  {
   "cell_type": "code",
   "execution_count": 5,
   "id": "2a02b471",
   "metadata": {},
   "outputs": [],
   "source": [
    "# Probabilidade de tirar uma mulher\n",
    "mulher_enem = enem_sp.loc[enem_sp.SEXO == 'F']"
   ]
  },
  {
   "cell_type": "code",
   "execution_count": 6,
   "id": "90802268",
   "metadata": {},
   "outputs": [
    {
     "data": {
      "text/plain": [
       "0.5803136376365163"
      ]
     },
     "execution_count": 6,
     "metadata": {},
     "output_type": "execute_result"
    }
   ],
   "source": [
    "p = len(mulher_enem) / len(enem_sp)\n",
    "p"
   ]
  },
  {
   "cell_type": "markdown",
   "id": "f01f7956",
   "metadata": {},
   "source": [
    "binom.pmf = valor pontual, exato\n",
    "\n",
    "binom.cdf = faixa de v alores (acumulada)"
   ]
  },
  {
   "cell_type": "code",
   "execution_count": 11,
   "id": "ca37defb",
   "metadata": {},
   "outputs": [
    {
     "name": "stdout",
     "output_type": "stream",
     "text": [
      "Probabilidade de retirar extaamente 4 mulheres em um total de 10 amostras\n"
     ]
    },
    {
     "data": {
      "text/plain": [
       "13.014261971434243"
      ]
     },
     "execution_count": 11,
     "metadata": {},
     "output_type": "execute_result"
    }
   ],
   "source": [
    "print('Probabilidade de retirar extaamente 4 mulheres em um total de 10 amostras')\n",
    "\n",
    "prob = binom.pmf(4, 10, p) * 100\n",
    "prob"
   ]
  },
  {
   "cell_type": "code",
   "execution_count": 13,
   "id": "28d3d014",
   "metadata": {},
   "outputs": [
    {
     "name": "stdout",
     "output_type": "stream",
     "text": [
      "Probabilidade de retirar pelo menos uma mulher num total de 10 amostras\n"
     ]
    },
    {
     "data": {
      "text/plain": [
       "0.9998304692157152"
      ]
     },
     "execution_count": 13,
     "metadata": {},
     "output_type": "execute_result"
    }
   ],
   "source": [
    "print('Probabilidade de retirar pelo menos uma mulher num total de 10 amostras')\n",
    "#pode ser uma mulher até 10, não pode ocorrer de não retirar ao menos uma\n",
    "p0 = 1 - binom.pmf(0, 10, p)\n",
    "p0"
   ]
  },
  {
   "cell_type": "code",
   "execution_count": 14,
   "id": "aa288b99",
   "metadata": {},
   "outputs": [
    {
     "name": "stdout",
     "output_type": "stream",
     "text": [
      "Prob de retirar mais do que 1 mulher num total de 10 amostras\n"
     ]
    },
    {
     "data": {
      "text/plain": [
       "0.997486313318782"
      ]
     },
     "execution_count": 14,
     "metadata": {},
     "output_type": "execute_result"
    }
   ],
   "source": [
    "print('Prob de retirar mais do que 1 mulher num total de 10 amostras')\n",
    "p1 = 1 - (binom.pmf(0, 10, p) + binom.pmf(1, 10, p))\n",
    "p1"
   ]
  },
  {
   "cell_type": "code",
   "execution_count": 15,
   "id": "4fd89994",
   "metadata": {},
   "outputs": [
    {
     "name": "stdout",
     "output_type": "stream",
     "text": [
      "Prob de retirar mais do que 3 mulheres num total de 10 amostras\n"
     ]
    },
    {
     "data": {
      "text/plain": [
       "0.929117468512205"
      ]
     },
     "execution_count": 15,
     "metadata": {},
     "output_type": "execute_result"
    }
   ],
   "source": [
    "print('Prob de retirar mais do que 3 mulheres num total de 10 amostras')\n",
    "p2 = 1 - (binom.pmf(0, 10, p) + binom.pmf(1, 10, p) + binom.pmf(2, 10, p) + binom.pmf(3, 10, p))\n",
    "p2"
   ]
  },
  {
   "cell_type": "code",
   "execution_count": 16,
   "id": "5d72be76",
   "metadata": {},
   "outputs": [
    {
     "data": {
      "text/plain": [
       "0.9291174685122046"
      ]
     },
     "execution_count": 16,
     "metadata": {},
     "output_type": "execute_result"
    }
   ],
   "source": [
    "# outra forma mais verbosa\n",
    "p2 = binom.pmf(4, 10, p) + binom.pmf(5, 10, p) + binom.pmf(6, 10, p) + binom.pmf(7, 10, p) + binom.pmf(8, 10, p) + binom.pmf(9, 10, p) + binom.pmf(10, 10, p)\n",
    "p2"
   ]
  },
  {
   "cell_type": "code",
   "execution_count": 17,
   "id": "4dbd6ea9",
   "metadata": {},
   "outputs": [
    {
     "data": {
      "text/plain": [
       "0.929117468512205"
      ]
     },
     "execution_count": 17,
     "metadata": {},
     "output_type": "execute_result"
    }
   ],
   "source": [
    "# outra fomra com cdf\n",
    "p3 = 1 - binom.cdf(3, 10, p)\n",
    "p3"
   ]
  },
  {
   "cell_type": "code",
   "execution_count": 18,
   "id": "355002dc",
   "metadata": {},
   "outputs": [
    {
     "name": "stdout",
     "output_type": "stream",
     "text": [
      "Prob de retirar mais do que 8 mulheres num total de 10 amostras\n"
     ]
    },
    {
     "data": {
      "text/plain": [
       "0.0356563059595738"
      ]
     },
     "execution_count": 18,
     "metadata": {},
     "output_type": "execute_result"
    }
   ],
   "source": [
    "print('Prob de retirar mais do que 8 mulheres num total de 10 amostras')\n",
    "p4 = binom.pmf(9, 10, p) + binom.pmf(10, 10, p)\n",
    "p4"
   ]
  },
  {
   "cell_type": "code",
   "execution_count": 19,
   "id": "f7f8c06e",
   "metadata": {},
   "outputs": [
    {
     "data": {
      "text/plain": [
       "0.03565630595957381"
      ]
     },
     "execution_count": 19,
     "metadata": {},
     "output_type": "execute_result"
    }
   ],
   "source": [
    "# outra forma do p4\n",
    "p5 = binom.cdf(10, 10, p) - binom.cdf(8, 10, p)\n",
    "p5"
   ]
  },
  {
   "cell_type": "markdown",
   "id": "11cafd37",
   "metadata": {},
   "source": [
    "## Distribuição geométrica"
   ]
  },
  {
   "cell_type": "code",
   "execution_count": 20,
   "id": "d9507d99",
   "metadata": {},
   "outputs": [],
   "source": [
    "from scipy.stats import geom"
   ]
  },
  {
   "cell_type": "code",
   "execution_count": 21,
   "id": "4b30d837",
   "metadata": {},
   "outputs": [
    {
     "name": "stdout",
     "output_type": "stream",
     "text": [
      "Prob de retirar 3 amostras e nenhuma ser mulher\n"
     ]
    },
    {
     "data": {
      "text/plain": [
       "0.042898029955685306"
      ]
     },
     "execution_count": 21,
     "metadata": {},
     "output_type": "execute_result"
    }
   ],
   "source": [
    "print('Prob de retirar 3 amostras e nenhuma ser mulher')\n",
    "#geom.pmf(x, p) x representa a tentativa que se obteve sucesso e p a probabilidade\n",
    "geom.pmf(4, p)"
   ]
  },
  {
   "cell_type": "markdown",
   "id": "2ada661e",
   "metadata": {},
   "source": [
    "## Distribuição de Poisson"
   ]
  },
  {
   "cell_type": "code",
   "execution_count": 22,
   "id": "00abdad0",
   "metadata": {},
   "outputs": [],
   "source": [
    "from scipy.stats import poisson"
   ]
  },
  {
   "cell_type": "code",
   "execution_count": 23,
   "id": "a798815f",
   "metadata": {},
   "outputs": [
    {
     "data": {
      "text/plain": [
       "0.025038944623030353"
      ]
     },
     "execution_count": 23,
     "metadata": {},
     "output_type": "execute_result"
    }
   ],
   "source": [
    "# Num local de prova, 100 vestibulandos, normalmente, terminaram a prova em 2 horas (tempo mínimo).\n",
    "# Probabilidade de exatamente 90 vestibulandos terminarem a prova em 2h.\n",
    "\n",
    "# poisson.pmf(x, m) x é a quantidade de ocorrências EM ESTUDO e m é a taxa de ocorrências.\n",
    "\n",
    "poisson.pmf(90,100)"
   ]
  }
 ],
 "metadata": {
  "kernelspec": {
   "display_name": "Python 3 (ipykernel)",
   "language": "python",
   "name": "python3"
  },
  "language_info": {
   "codemirror_mode": {
    "name": "ipython",
    "version": 3
   },
   "file_extension": ".py",
   "mimetype": "text/x-python",
   "name": "python",
   "nbconvert_exporter": "python",
   "pygments_lexer": "ipython3",
   "version": "3.8.10"
  }
 },
 "nbformat": 4,
 "nbformat_minor": 5
}
