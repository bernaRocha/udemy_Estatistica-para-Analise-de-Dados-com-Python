{
 "cells": [
  {
   "cell_type": "markdown",
   "id": "d348bd71",
   "metadata": {},
   "source": [
    "# Teste Z para uma amostra"
   ]
  },
  {
   "cell_type": "code",
   "execution_count": 1,
   "id": "09650b04",
   "metadata": {},
   "outputs": [],
   "source": [
    "import pandas as pd\n",
    "import numpy as np\n",
    "import seaborn as sns"
   ]
  },
  {
   "cell_type": "code",
   "execution_count": 2,
   "id": "4dbe6040",
   "metadata": {},
   "outputs": [],
   "source": [
    "enem_sp = pd.read_csv('data/enem_2019-tratado.csv', sep=',', encoding='iso-8859-1') "
   ]
  },
  {
   "cell_type": "code",
   "execution_count": 3,
   "id": "889cbefc",
   "metadata": {},
   "outputs": [
    {
     "data": {
      "text/html": [
       "<div>\n",
       "<style scoped>\n",
       "    .dataframe tbody tr th:only-of-type {\n",
       "        vertical-align: middle;\n",
       "    }\n",
       "\n",
       "    .dataframe tbody tr th {\n",
       "        vertical-align: top;\n",
       "    }\n",
       "\n",
       "    .dataframe thead th {\n",
       "        text-align: right;\n",
       "    }\n",
       "</style>\n",
       "<table border=\"1\" class=\"dataframe\">\n",
       "  <thead>\n",
       "    <tr style=\"text-align: right;\">\n",
       "      <th></th>\n",
       "      <th>NU_INSCRICAO</th>\n",
       "      <th>NO_MUNICIPIO_RESIDENCIA</th>\n",
       "      <th>IDADE</th>\n",
       "      <th>SEXO</th>\n",
       "      <th>TP_ESTADO_CIVIL</th>\n",
       "      <th>RACA</th>\n",
       "      <th>TP_NACIONALIDADE</th>\n",
       "      <th>TP_ST_CONCLUSAO</th>\n",
       "      <th>ESCOLA</th>\n",
       "      <th>CO_ESCOLA</th>\n",
       "      <th>...</th>\n",
       "      <th>NOTA_MT</th>\n",
       "      <th>TP_LINGUA</th>\n",
       "      <th>TP_STATUS_REDACAO</th>\n",
       "      <th>COMP1</th>\n",
       "      <th>COMP2</th>\n",
       "      <th>COMP3</th>\n",
       "      <th>COMP4</th>\n",
       "      <th>COMP5</th>\n",
       "      <th>NOTA_REDACAO</th>\n",
       "      <th>INTERNET</th>\n",
       "    </tr>\n",
       "  </thead>\n",
       "  <tbody>\n",
       "    <tr>\n",
       "      <th>0</th>\n",
       "      <td>1,90E+11</td>\n",
       "      <td>Santa Isabel</td>\n",
       "      <td>22</td>\n",
       "      <td>M</td>\n",
       "      <td>1</td>\n",
       "      <td>parda</td>\n",
       "      <td>1</td>\n",
       "      <td>1</td>\n",
       "      <td>nao_respondeu</td>\n",
       "      <td>NaN</td>\n",
       "      <td>...</td>\n",
       "      <td>600.2</td>\n",
       "      <td>ingles</td>\n",
       "      <td>1.0</td>\n",
       "      <td>160.0</td>\n",
       "      <td>200.0</td>\n",
       "      <td>180.0</td>\n",
       "      <td>200.0</td>\n",
       "      <td>200.0</td>\n",
       "      <td>940.0</td>\n",
       "      <td>sim</td>\n",
       "    </tr>\n",
       "    <tr>\n",
       "      <th>1</th>\n",
       "      <td>1,90E+11</td>\n",
       "      <td>São Paulo</td>\n",
       "      <td>17</td>\n",
       "      <td>F</td>\n",
       "      <td>1</td>\n",
       "      <td>parda</td>\n",
       "      <td>1</td>\n",
       "      <td>2</td>\n",
       "      <td>privada</td>\n",
       "      <td>15567761.0</td>\n",
       "      <td>...</td>\n",
       "      <td>731.8</td>\n",
       "      <td>ingles</td>\n",
       "      <td>1.0</td>\n",
       "      <td>160.0</td>\n",
       "      <td>120.0</td>\n",
       "      <td>200.0</td>\n",
       "      <td>200.0</td>\n",
       "      <td>200.0</td>\n",
       "      <td>880.0</td>\n",
       "      <td>nao</td>\n",
       "    </tr>\n",
       "    <tr>\n",
       "      <th>2</th>\n",
       "      <td>1,90E+11</td>\n",
       "      <td>São Bernardo do Campo</td>\n",
       "      <td>19</td>\n",
       "      <td>M</td>\n",
       "      <td>1</td>\n",
       "      <td>parda</td>\n",
       "      <td>1</td>\n",
       "      <td>2</td>\n",
       "      <td>publica</td>\n",
       "      <td>35904958.0</td>\n",
       "      <td>...</td>\n",
       "      <td>393.2</td>\n",
       "      <td>1</td>\n",
       "      <td>1.0</td>\n",
       "      <td>80.0</td>\n",
       "      <td>160.0</td>\n",
       "      <td>120.0</td>\n",
       "      <td>100.0</td>\n",
       "      <td>100.0</td>\n",
       "      <td>560.0</td>\n",
       "      <td>sim</td>\n",
       "    </tr>\n",
       "    <tr>\n",
       "      <th>3</th>\n",
       "      <td>1,90E+11</td>\n",
       "      <td>Embu-Guaçu</td>\n",
       "      <td>17</td>\n",
       "      <td>F</td>\n",
       "      <td>1</td>\n",
       "      <td>parda</td>\n",
       "      <td>1</td>\n",
       "      <td>2</td>\n",
       "      <td>publica</td>\n",
       "      <td>NaN</td>\n",
       "      <td>...</td>\n",
       "      <td>419.2</td>\n",
       "      <td>ingles</td>\n",
       "      <td>1.0</td>\n",
       "      <td>120.0</td>\n",
       "      <td>120.0</td>\n",
       "      <td>120.0</td>\n",
       "      <td>120.0</td>\n",
       "      <td>80.0</td>\n",
       "      <td>560.0</td>\n",
       "      <td>sim</td>\n",
       "    </tr>\n",
       "    <tr>\n",
       "      <th>4</th>\n",
       "      <td>1,90E+11</td>\n",
       "      <td>Guarulhos</td>\n",
       "      <td>23</td>\n",
       "      <td>F</td>\n",
       "      <td>1</td>\n",
       "      <td>branca</td>\n",
       "      <td>1</td>\n",
       "      <td>1</td>\n",
       "      <td>nao_respondeu</td>\n",
       "      <td>NaN</td>\n",
       "      <td>...</td>\n",
       "      <td>796.1</td>\n",
       "      <td>ingles</td>\n",
       "      <td>1.0</td>\n",
       "      <td>160.0</td>\n",
       "      <td>200.0</td>\n",
       "      <td>180.0</td>\n",
       "      <td>180.0</td>\n",
       "      <td>160.0</td>\n",
       "      <td>880.0</td>\n",
       "      <td>sim</td>\n",
       "    </tr>\n",
       "    <tr>\n",
       "      <th>...</th>\n",
       "      <td>...</td>\n",
       "      <td>...</td>\n",
       "      <td>...</td>\n",
       "      <td>...</td>\n",
       "      <td>...</td>\n",
       "      <td>...</td>\n",
       "      <td>...</td>\n",
       "      <td>...</td>\n",
       "      <td>...</td>\n",
       "      <td>...</td>\n",
       "      <td>...</td>\n",
       "      <td>...</td>\n",
       "      <td>...</td>\n",
       "      <td>...</td>\n",
       "      <td>...</td>\n",
       "      <td>...</td>\n",
       "      <td>...</td>\n",
       "      <td>...</td>\n",
       "      <td>...</td>\n",
       "      <td>...</td>\n",
       "      <td>...</td>\n",
       "    </tr>\n",
       "    <tr>\n",
       "      <th>499935</th>\n",
       "      <td>1,90E+11</td>\n",
       "      <td>São Paulo</td>\n",
       "      <td>18</td>\n",
       "      <td>F</td>\n",
       "      <td>1</td>\n",
       "      <td>parda</td>\n",
       "      <td>1</td>\n",
       "      <td>1</td>\n",
       "      <td>nao_respondeu</td>\n",
       "      <td>NaN</td>\n",
       "      <td>...</td>\n",
       "      <td>479.1</td>\n",
       "      <td>1</td>\n",
       "      <td>1.0</td>\n",
       "      <td>100.0</td>\n",
       "      <td>120.0</td>\n",
       "      <td>120.0</td>\n",
       "      <td>140.0</td>\n",
       "      <td>100.0</td>\n",
       "      <td>580.0</td>\n",
       "      <td>sim</td>\n",
       "    </tr>\n",
       "    <tr>\n",
       "      <th>499936</th>\n",
       "      <td>1,90E+11</td>\n",
       "      <td>São Paulo</td>\n",
       "      <td>17</td>\n",
       "      <td>F</td>\n",
       "      <td>1</td>\n",
       "      <td>preta</td>\n",
       "      <td>1</td>\n",
       "      <td>2</td>\n",
       "      <td>publica</td>\n",
       "      <td>35925457.0</td>\n",
       "      <td>...</td>\n",
       "      <td>43.2</td>\n",
       "      <td>1</td>\n",
       "      <td>1.0</td>\n",
       "      <td>80.0</td>\n",
       "      <td>120.0</td>\n",
       "      <td>140.0</td>\n",
       "      <td>120.0</td>\n",
       "      <td>100.0</td>\n",
       "      <td>560.0</td>\n",
       "      <td>sim</td>\n",
       "    </tr>\n",
       "    <tr>\n",
       "      <th>499937</th>\n",
       "      <td>1,90E+11</td>\n",
       "      <td>São Paulo</td>\n",
       "      <td>17</td>\n",
       "      <td>F</td>\n",
       "      <td>1</td>\n",
       "      <td>parda</td>\n",
       "      <td>1</td>\n",
       "      <td>2</td>\n",
       "      <td>publica</td>\n",
       "      <td>35001156.0</td>\n",
       "      <td>...</td>\n",
       "      <td>487.3</td>\n",
       "      <td>ingles</td>\n",
       "      <td>1.0</td>\n",
       "      <td>120.0</td>\n",
       "      <td>80.0</td>\n",
       "      <td>60.0</td>\n",
       "      <td>120.0</td>\n",
       "      <td>0.0</td>\n",
       "      <td>380.0</td>\n",
       "      <td>sim</td>\n",
       "    </tr>\n",
       "    <tr>\n",
       "      <th>499938</th>\n",
       "      <td>1,90E+11</td>\n",
       "      <td>São Paulo</td>\n",
       "      <td>17</td>\n",
       "      <td>M</td>\n",
       "      <td>1</td>\n",
       "      <td>parda</td>\n",
       "      <td>1</td>\n",
       "      <td>2</td>\n",
       "      <td>publica</td>\n",
       "      <td>NaN</td>\n",
       "      <td>...</td>\n",
       "      <td>401.1</td>\n",
       "      <td>ingles</td>\n",
       "      <td>1.0</td>\n",
       "      <td>160.0</td>\n",
       "      <td>120.0</td>\n",
       "      <td>160.0</td>\n",
       "      <td>140.0</td>\n",
       "      <td>160.0</td>\n",
       "      <td>740.0</td>\n",
       "      <td>nao</td>\n",
       "    </tr>\n",
       "    <tr>\n",
       "      <th>499939</th>\n",
       "      <td>1,90E+11</td>\n",
       "      <td>Araras</td>\n",
       "      <td>18</td>\n",
       "      <td>F</td>\n",
       "      <td>1</td>\n",
       "      <td>branca</td>\n",
       "      <td>1</td>\n",
       "      <td>2</td>\n",
       "      <td>publica</td>\n",
       "      <td>35019926.0</td>\n",
       "      <td>...</td>\n",
       "      <td>559.5</td>\n",
       "      <td>ingles</td>\n",
       "      <td>1.0</td>\n",
       "      <td>120.0</td>\n",
       "      <td>120.0</td>\n",
       "      <td>120.0</td>\n",
       "      <td>120.0</td>\n",
       "      <td>140.0</td>\n",
       "      <td>620.0</td>\n",
       "      <td>sim</td>\n",
       "    </tr>\n",
       "  </tbody>\n",
       "</table>\n",
       "<p>499940 rows × 28 columns</p>\n",
       "</div>"
      ],
      "text/plain": [
       "       NU_INSCRICAO NO_MUNICIPIO_RESIDENCIA  IDADE SEXO  TP_ESTADO_CIVIL  \\\n",
       "0          1,90E+11            Santa Isabel     22    M                1   \n",
       "1          1,90E+11               São Paulo     17    F                1   \n",
       "2          1,90E+11   São Bernardo do Campo     19    M                1   \n",
       "3          1,90E+11              Embu-Guaçu     17    F                1   \n",
       "4          1,90E+11               Guarulhos     23    F                1   \n",
       "...             ...                     ...    ...  ...              ...   \n",
       "499935     1,90E+11               São Paulo     18    F                1   \n",
       "499936     1,90E+11               São Paulo     17    F                1   \n",
       "499937     1,90E+11               São Paulo     17    F                1   \n",
       "499938     1,90E+11               São Paulo     17    M                1   \n",
       "499939     1,90E+11                  Araras     18    F                1   \n",
       "\n",
       "          RACA  TP_NACIONALIDADE  TP_ST_CONCLUSAO         ESCOLA   CO_ESCOLA  \\\n",
       "0        parda                 1                1  nao_respondeu         NaN   \n",
       "1        parda                 1                2        privada  15567761.0   \n",
       "2        parda                 1                2        publica  35904958.0   \n",
       "3        parda                 1                2        publica         NaN   \n",
       "4       branca                 1                1  nao_respondeu         NaN   \n",
       "...        ...               ...              ...            ...         ...   \n",
       "499935   parda                 1                1  nao_respondeu         NaN   \n",
       "499936   preta                 1                2        publica  35925457.0   \n",
       "499937   parda                 1                2        publica  35001156.0   \n",
       "499938   parda                 1                2        publica         NaN   \n",
       "499939  branca                 1                2        publica  35019926.0   \n",
       "\n",
       "        ... NOTA_MT  TP_LINGUA  TP_STATUS_REDACAO  COMP1  COMP2  COMP3  COMP4  \\\n",
       "0       ...   600.2     ingles                1.0  160.0  200.0  180.0  200.0   \n",
       "1       ...   731.8     ingles                1.0  160.0  120.0  200.0  200.0   \n",
       "2       ...   393.2          1                1.0   80.0  160.0  120.0  100.0   \n",
       "3       ...   419.2     ingles                1.0  120.0  120.0  120.0  120.0   \n",
       "4       ...   796.1     ingles                1.0  160.0  200.0  180.0  180.0   \n",
       "...     ...     ...        ...                ...    ...    ...    ...    ...   \n",
       "499935  ...   479.1          1                1.0  100.0  120.0  120.0  140.0   \n",
       "499936  ...    43.2          1                1.0   80.0  120.0  140.0  120.0   \n",
       "499937  ...   487.3     ingles                1.0  120.0   80.0   60.0  120.0   \n",
       "499938  ...   401.1     ingles                1.0  160.0  120.0  160.0  140.0   \n",
       "499939  ...   559.5     ingles                1.0  120.0  120.0  120.0  120.0   \n",
       "\n",
       "        COMP5  NOTA_REDACAO INTERNET  \n",
       "0       200.0         940.0      sim  \n",
       "1       200.0         880.0      nao  \n",
       "2       100.0         560.0      sim  \n",
       "3        80.0         560.0      sim  \n",
       "4       160.0         880.0      sim  \n",
       "...       ...           ...      ...  \n",
       "499935  100.0         580.0      sim  \n",
       "499936  100.0         560.0      sim  \n",
       "499937    0.0         380.0      sim  \n",
       "499938  160.0         740.0      nao  \n",
       "499939  140.0         620.0      sim  \n",
       "\n",
       "[499940 rows x 28 columns]"
      ]
     },
     "execution_count": 3,
     "metadata": {},
     "output_type": "execute_result"
    }
   ],
   "source": [
    "enem_sp"
   ]
  },
  {
   "cell_type": "code",
   "execution_count": 4,
   "id": "e9f8922e",
   "metadata": {},
   "outputs": [],
   "source": [
    "colegiox = enem_sp.loc[enem_sp.CO_ESCOLA == 35017632.0]"
   ]
  },
  {
   "cell_type": "code",
   "execution_count": 5,
   "id": "bf911ca7",
   "metadata": {},
   "outputs": [
    {
     "data": {
      "text/plain": [
       "(41, 28)"
      ]
     },
     "execution_count": 5,
     "metadata": {},
     "output_type": "execute_result"
    }
   ],
   "source": [
    "colegiox.shape"
   ]
  },
  {
   "cell_type": "code",
   "execution_count": 6,
   "id": "f82a6fd2",
   "metadata": {},
   "outputs": [
    {
     "data": {
      "text/html": [
       "<div>\n",
       "<style scoped>\n",
       "    .dataframe tbody tr th:only-of-type {\n",
       "        vertical-align: middle;\n",
       "    }\n",
       "\n",
       "    .dataframe tbody tr th {\n",
       "        vertical-align: top;\n",
       "    }\n",
       "\n",
       "    .dataframe thead th {\n",
       "        text-align: right;\n",
       "    }\n",
       "</style>\n",
       "<table border=\"1\" class=\"dataframe\">\n",
       "  <thead>\n",
       "    <tr style=\"text-align: right;\">\n",
       "      <th></th>\n",
       "      <th>NU_INSCRICAO</th>\n",
       "      <th>NO_MUNICIPIO_RESIDENCIA</th>\n",
       "      <th>IDADE</th>\n",
       "      <th>SEXO</th>\n",
       "      <th>TP_ESTADO_CIVIL</th>\n",
       "      <th>RACA</th>\n",
       "      <th>TP_NACIONALIDADE</th>\n",
       "      <th>TP_ST_CONCLUSAO</th>\n",
       "      <th>ESCOLA</th>\n",
       "      <th>CO_ESCOLA</th>\n",
       "      <th>...</th>\n",
       "      <th>NOTA_MT</th>\n",
       "      <th>TP_LINGUA</th>\n",
       "      <th>TP_STATUS_REDACAO</th>\n",
       "      <th>COMP1</th>\n",
       "      <th>COMP2</th>\n",
       "      <th>COMP3</th>\n",
       "      <th>COMP4</th>\n",
       "      <th>COMP5</th>\n",
       "      <th>NOTA_REDACAO</th>\n",
       "      <th>INTERNET</th>\n",
       "    </tr>\n",
       "  </thead>\n",
       "  <tbody>\n",
       "    <tr>\n",
       "      <th>37</th>\n",
       "      <td>1,90E+11</td>\n",
       "      <td>Águas de Lindóia</td>\n",
       "      <td>18</td>\n",
       "      <td>M</td>\n",
       "      <td>1</td>\n",
       "      <td>branca</td>\n",
       "      <td>1</td>\n",
       "      <td>2</td>\n",
       "      <td>publica</td>\n",
       "      <td>35017632.0</td>\n",
       "      <td>...</td>\n",
       "      <td>537.1</td>\n",
       "      <td>ingles</td>\n",
       "      <td>1.0</td>\n",
       "      <td>120.0</td>\n",
       "      <td>40.0</td>\n",
       "      <td>40.0</td>\n",
       "      <td>120.0</td>\n",
       "      <td>20.0</td>\n",
       "      <td>340.0</td>\n",
       "      <td>sim</td>\n",
       "    </tr>\n",
       "    <tr>\n",
       "      <th>44</th>\n",
       "      <td>1,90E+11</td>\n",
       "      <td>Águas de Lindóia</td>\n",
       "      <td>17</td>\n",
       "      <td>F</td>\n",
       "      <td>1</td>\n",
       "      <td>parda</td>\n",
       "      <td>1</td>\n",
       "      <td>2</td>\n",
       "      <td>publica</td>\n",
       "      <td>35017632.0</td>\n",
       "      <td>...</td>\n",
       "      <td>451.9</td>\n",
       "      <td>ingles</td>\n",
       "      <td>1.0</td>\n",
       "      <td>140.0</td>\n",
       "      <td>120.0</td>\n",
       "      <td>140.0</td>\n",
       "      <td>160.0</td>\n",
       "      <td>160.0</td>\n",
       "      <td>720.0</td>\n",
       "      <td>nao</td>\n",
       "    </tr>\n",
       "    <tr>\n",
       "      <th>52</th>\n",
       "      <td>1,90E+11</td>\n",
       "      <td>Águas de Lindóia</td>\n",
       "      <td>17</td>\n",
       "      <td>F</td>\n",
       "      <td>1</td>\n",
       "      <td>branca</td>\n",
       "      <td>1</td>\n",
       "      <td>2</td>\n",
       "      <td>publica</td>\n",
       "      <td>35017632.0</td>\n",
       "      <td>...</td>\n",
       "      <td>506.4</td>\n",
       "      <td>1</td>\n",
       "      <td>1.0</td>\n",
       "      <td>120.0</td>\n",
       "      <td>120.0</td>\n",
       "      <td>120.0</td>\n",
       "      <td>120.0</td>\n",
       "      <td>80.0</td>\n",
       "      <td>560.0</td>\n",
       "      <td>nao</td>\n",
       "    </tr>\n",
       "    <tr>\n",
       "      <th>65</th>\n",
       "      <td>1,90E+11</td>\n",
       "      <td>Águas de Lindóia</td>\n",
       "      <td>17</td>\n",
       "      <td>M</td>\n",
       "      <td>1</td>\n",
       "      <td>parda</td>\n",
       "      <td>1</td>\n",
       "      <td>2</td>\n",
       "      <td>publica</td>\n",
       "      <td>35017632.0</td>\n",
       "      <td>...</td>\n",
       "      <td>59.5</td>\n",
       "      <td>ingles</td>\n",
       "      <td>1.0</td>\n",
       "      <td>120.0</td>\n",
       "      <td>120.0</td>\n",
       "      <td>120.0</td>\n",
       "      <td>120.0</td>\n",
       "      <td>40.0</td>\n",
       "      <td>520.0</td>\n",
       "      <td>sim</td>\n",
       "    </tr>\n",
       "    <tr>\n",
       "      <th>79</th>\n",
       "      <td>1,90E+11</td>\n",
       "      <td>Águas de Lindóia</td>\n",
       "      <td>18</td>\n",
       "      <td>F</td>\n",
       "      <td>1</td>\n",
       "      <td>branca</td>\n",
       "      <td>1</td>\n",
       "      <td>2</td>\n",
       "      <td>publica</td>\n",
       "      <td>35017632.0</td>\n",
       "      <td>...</td>\n",
       "      <td>510.6</td>\n",
       "      <td>1</td>\n",
       "      <td>1.0</td>\n",
       "      <td>120.0</td>\n",
       "      <td>120.0</td>\n",
       "      <td>120.0</td>\n",
       "      <td>140.0</td>\n",
       "      <td>140.0</td>\n",
       "      <td>640.0</td>\n",
       "      <td>sim</td>\n",
       "    </tr>\n",
       "  </tbody>\n",
       "</table>\n",
       "<p>5 rows × 28 columns</p>\n",
       "</div>"
      ],
      "text/plain": [
       "   NU_INSCRICAO NO_MUNICIPIO_RESIDENCIA  IDADE SEXO  TP_ESTADO_CIVIL    RACA  \\\n",
       "37     1,90E+11        Águas de Lindóia     18    M                1  branca   \n",
       "44     1,90E+11        Águas de Lindóia     17    F                1   parda   \n",
       "52     1,90E+11        Águas de Lindóia     17    F                1  branca   \n",
       "65     1,90E+11        Águas de Lindóia     17    M                1   parda   \n",
       "79     1,90E+11        Águas de Lindóia     18    F                1  branca   \n",
       "\n",
       "    TP_NACIONALIDADE  TP_ST_CONCLUSAO   ESCOLA   CO_ESCOLA  ... NOTA_MT  \\\n",
       "37                 1                2  publica  35017632.0  ...   537.1   \n",
       "44                 1                2  publica  35017632.0  ...   451.9   \n",
       "52                 1                2  publica  35017632.0  ...   506.4   \n",
       "65                 1                2  publica  35017632.0  ...    59.5   \n",
       "79                 1                2  publica  35017632.0  ...   510.6   \n",
       "\n",
       "    TP_LINGUA  TP_STATUS_REDACAO  COMP1  COMP2  COMP3  COMP4  COMP5  \\\n",
       "37     ingles                1.0  120.0   40.0   40.0  120.0   20.0   \n",
       "44     ingles                1.0  140.0  120.0  140.0  160.0  160.0   \n",
       "52          1                1.0  120.0  120.0  120.0  120.0   80.0   \n",
       "65     ingles                1.0  120.0  120.0  120.0  120.0   40.0   \n",
       "79          1                1.0  120.0  120.0  120.0  140.0  140.0   \n",
       "\n",
       "    NOTA_REDACAO INTERNET  \n",
       "37         340.0      sim  \n",
       "44         720.0      nao  \n",
       "52         560.0      nao  \n",
       "65         520.0      sim  \n",
       "79         640.0      sim  \n",
       "\n",
       "[5 rows x 28 columns]"
      ]
     },
     "execution_count": 6,
     "metadata": {},
     "output_type": "execute_result"
    }
   ],
   "source": [
    "colegiox.head()"
   ]
  },
  {
   "cell_type": "markdown",
   "id": "e0e801a8",
   "metadata": {},
   "source": [
    "1) Analisar a calssificação de variáveis"
   ]
  },
  {
   "cell_type": "code",
   "execution_count": 7,
   "id": "bf5f053f",
   "metadata": {},
   "outputs": [
    {
     "data": {
      "text/plain": [
       "NU_INSCRICAO                object\n",
       "NO_MUNICIPIO_RESIDENCIA     object\n",
       "IDADE                        int64\n",
       "SEXO                        object\n",
       "TP_ESTADO_CIVIL              int64\n",
       "RACA                        object\n",
       "TP_NACIONALIDADE             int64\n",
       "TP_ST_CONCLUSAO              int64\n",
       "ESCOLA                      object\n",
       "CO_ESCOLA                  float64\n",
       "NO_MUNICIPIO_ESC            object\n",
       "TP_PRESENCA_CN               int64\n",
       "TP_PRESENCA_CH               int64\n",
       "TP_PRESENCA_LC               int64\n",
       "TP_PRESENCA_MT               int64\n",
       "NOTA_CN                    float64\n",
       "NOTA_CH                    float64\n",
       "NOTA_LC                    float64\n",
       "NOTA_MT                    float64\n",
       "TP_LINGUA                   object\n",
       "TP_STATUS_REDACAO          float64\n",
       "COMP1                      float64\n",
       "COMP2                      float64\n",
       "COMP3                      float64\n",
       "COMP4                      float64\n",
       "COMP5                      float64\n",
       "NOTA_REDACAO               float64\n",
       "INTERNET                    object\n",
       "dtype: object"
      ]
     },
     "execution_count": 7,
     "metadata": {},
     "output_type": "execute_result"
    }
   ],
   "source": [
    "colegiox.dtypes"
   ]
  },
  {
   "cell_type": "markdown",
   "id": "78258e4c",
   "metadata": {},
   "source": [
    "2) Analisar valores missing"
   ]
  },
  {
   "cell_type": "code",
   "execution_count": 8,
   "id": "c6803e83",
   "metadata": {},
   "outputs": [
    {
     "data": {
      "text/plain": [
       "NU_INSCRICAO               0\n",
       "NO_MUNICIPIO_RESIDENCIA    0\n",
       "IDADE                      0\n",
       "SEXO                       0\n",
       "TP_ESTADO_CIVIL            0\n",
       "RACA                       0\n",
       "TP_NACIONALIDADE           0\n",
       "TP_ST_CONCLUSAO            0\n",
       "ESCOLA                     0\n",
       "CO_ESCOLA                  0\n",
       "NO_MUNICIPIO_ESC           0\n",
       "TP_PRESENCA_CN             0\n",
       "TP_PRESENCA_CH             0\n",
       "TP_PRESENCA_LC             0\n",
       "TP_PRESENCA_MT             0\n",
       "NOTA_CN                    0\n",
       "NOTA_CH                    0\n",
       "NOTA_LC                    0\n",
       "NOTA_MT                    0\n",
       "TP_LINGUA                  0\n",
       "TP_STATUS_REDACAO          0\n",
       "COMP1                      0\n",
       "COMP2                      0\n",
       "COMP3                      0\n",
       "COMP4                      0\n",
       "COMP5                      0\n",
       "NOTA_REDACAO               0\n",
       "INTERNET                   0\n",
       "dtype: int64"
      ]
     },
     "execution_count": 8,
     "metadata": {},
     "output_type": "execute_result"
    }
   ],
   "source": [
    "colegiox.isnull().sum()"
   ]
  },
  {
   "cell_type": "markdown",
   "id": "2ff6db74",
   "metadata": {},
   "source": [
    "3) Analisar outliers"
   ]
  },
  {
   "cell_type": "code",
   "execution_count": 9,
   "id": "c35a6ffa",
   "metadata": {},
   "outputs": [],
   "source": [
    "import plotly.express as px"
   ]
  },
  {
   "cell_type": "code",
   "execution_count": 21,
   "id": "35c4379d",
   "metadata": {},
   "outputs": [
    {
     "data": {
      "image/png": "[encoded data removed]",
      "text/plain": [
       "<Figure size 640x480 with 1 Axes>"
      ]
     },
     "metadata": {},
     "output_type": "display_data"
    }
   ],
   "source": [
    "sns.boxplot(colegiox, x=\"NOTA_REDACAO\",\n",
    "            saturation=0.75, width=0.5, linewidth=0.8, medianprops={\"color\": \"white\"});"
   ]
  },
  {
   "cell_type": "markdown",
   "id": "2c968a69",
   "metadata": {},
   "source": [
    "4) Analisar Normalidade"
   ]
  },
  {
   "cell_type": "code",
   "execution_count": 11,
   "id": "0efab353",
   "metadata": {},
   "outputs": [
    {
     "data": {
      "text/plain": [
       "<AxesSubplot: xlabel='NOTA_REDACAO', ylabel='Probability'>"
      ]
     },
     "execution_count": 11,
     "metadata": {},
     "output_type": "execute_result"
    },
    {
     "data": {
      "image/png": "[encoded data removed]",
      "text/plain": [
       "<Figure size 640x480 with 1 Axes>"
      ]
     },
     "metadata": {},
     "output_type": "display_data"
    }
   ],
   "source": [
    "sns.histplot(colegiox, x='NOTA_REDACAO', bins=20, color='green', kde=True, stat='probability')"
   ]
  },
  {
   "cell_type": "code",
   "execution_count": 12,
   "id": "a4eb555a",
   "metadata": {},
   "outputs": [],
   "source": [
    "import scipy.stats as stats\n",
    "import matplotlib.pyplot as plt"
   ]
  },
  {
   "cell_type": "code",
   "execution_count": 13,
   "id": "ecac2ea7",
   "metadata": {},
   "outputs": [
    {
     "data": {
      "image/png": "[encoded data removed]",
      "text/plain": [
       "<Figure size 640x480 with 1 Axes>"
      ]
     },
     "metadata": {},
     "output_type": "display_data"
    }
   ],
   "source": [
    "stats.probplot(colegiox['NOTA_REDACAO'], dist='norm', plot=plt)\n",
    "plt.title(\"Normal Q-Q plt\")\n",
    "plt.show()"
   ]
  },
  {
   "cell_type": "markdown",
   "id": "9942ee7f",
   "metadata": {},
   "source": [
    "#### Critérios:\n",
    "Nível de significância de 0,05 ou 5% (mais utilizado)\n",
    "<br>Quando p > 0.05 (dist. normal)"
   ]
  },
  {
   "cell_type": "code",
   "execution_count": 14,
   "id": "dde0d3be",
   "metadata": {},
   "outputs": [
    {
     "data": {
      "text/plain": [
       "ShapiroResult(statistic=0.9529756903648376, pvalue=0.08905091136693954)"
      ]
     },
     "execution_count": 14,
     "metadata": {},
     "output_type": "execute_result"
    }
   ],
   "source": [
    "stats.shapiro(colegiox.NOTA_REDACAO)"
   ]
  },
  {
   "cell_type": "code",
   "execution_count": 15,
   "id": "0311cbe8",
   "metadata": {},
   "outputs": [],
   "source": [
    "import statsmodels\n",
    "from statsmodels.stats.diagnostic import lilliefors"
   ]
  },
  {
   "cell_type": "code",
   "execution_count": 16,
   "id": "5019c8e8",
   "metadata": {},
   "outputs": [
    {
     "data": {
      "text/plain": [
       "(0.15115505856545197, 0.020310301942343047)"
      ]
     },
     "execution_count": 16,
     "metadata": {},
     "output_type": "execute_result"
    }
   ],
   "source": [
    "statsmodels.stats.diagnostic.lilliefors(colegiox.NOTA_REDACAO, dist='norm')"
   ]
  },
  {
   "cell_type": "code",
   "execution_count": 17,
   "id": "40752d9c",
   "metadata": {},
   "outputs": [
    {
     "data": {
      "text/plain": [
       "AndersonResult(statistic=0.698461623735156, critical_values=array([0.532, 0.606, 0.727, 0.848, 1.009]), significance_level=array([15. , 10. ,  5. ,  2.5,  1. ]))"
      ]
     },
     "execution_count": 17,
     "metadata": {},
     "output_type": "execute_result"
    }
   ],
   "source": [
    "stats.anderson(colegiox.NOTA_REDACAO, 'norm')"
   ]
  },
  {
   "cell_type": "markdown",
   "id": "33551ccd",
   "metadata": {},
   "source": [
    "# Teste Z\n",
    "\n",
    "Média das notas do colégio X comparada com a média do estado de São Paulo"
   ]
  },
  {
   "cell_type": "markdown",
   "id": "e08744c3",
   "metadata": {},
   "source": [
    "H0: média igual a SP - p > 0.05\n",
    "\n",
    "Ha: média diferente a SP - p <= 0.05"
   ]
  },
  {
   "cell_type": "code",
   "execution_count": 18,
   "id": "fbf25c5d",
   "metadata": {},
   "outputs": [],
   "source": [
    "from statsmodels.stats.weightstats import ztest"
   ]
  },
  {
   "cell_type": "code",
   "execution_count": 19,
   "id": "f7783984",
   "metadata": {},
   "outputs": [
    {
     "data": {
      "text/plain": [
       "count    499940.000000\n",
       "mean        593.018322\n",
       "std         170.536724\n",
       "min           0.000000\n",
       "25%         500.000000\n",
       "50%         600.000000\n",
       "75%         680.000000\n",
       "max        1000.000000\n",
       "Name: NOTA_REDACAO, dtype: float64"
      ]
     },
     "execution_count": 19,
     "metadata": {},
     "output_type": "execute_result"
    }
   ],
   "source": [
    "enem_sp.NOTA_REDACAO.describe()"
   ]
  },
  {
   "cell_type": "code",
   "execution_count": 20,
   "id": "8ebcd920",
   "metadata": {},
   "outputs": [
    {
     "name": "stdout",
     "output_type": "stream",
     "text": [
      "Estatística de teste: -3.9844\n",
      "P-valor: 0.0001\n"
     ]
    }
   ],
   "source": [
    "stat, p = ztest(colegiox.NOTA_REDACAO, value=593.018322)\n",
    "print(f\"Estatística de teste: {stat:.4f}\")\n",
    "print(f\"P-valor: {p:.4f}\")"
   ]
  },
  {
   "cell_type": "markdown",
   "id": "254f1533",
   "metadata": {},
   "source": [
    "### Interpretação:\n",
    "P-valor = 0.0001, então <= 0.05, a média diferente do estado de São Paulo, com um intervalo de confiança de 95%."
   ]
  }
 ],
 "metadata": {
  "kernelspec": {
   "display_name": "Python 3 (ipykernel)",
   "language": "python",
   "name": "python3"
  },
  "language_info": {
   "codemirror_mode": {
    "name": "ipython",
    "version": 3
   },
   "file_extension": ".py",
   "mimetype": "text/x-python",
   "name": "python",
   "nbconvert_exporter": "python",
   "pygments_lexer": "ipython3",
   "version": "3.8.10"
  }
 },
 "nbformat": 4,
 "nbformat_minor": 5
}
