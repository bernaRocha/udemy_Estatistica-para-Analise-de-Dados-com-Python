{
 "cells": [
  {
   "cell_type": "markdown",
   "id": "af8379a9",
   "metadata": {},
   "source": [
    "# Medidas de dispersão e de posição"
   ]
  },
  {
   "cell_type": "code",
   "execution_count": null,
   "id": "2fbd23dc",
   "metadata": {},
   "outputs": [],
   "source": [
    "import numpy as np\n",
    "import pandas as pd"
   ]
  },
  {
   "cell_type": "code",
   "execution_count": null,
   "id": "8cc3bb80",
   "metadata": {},
   "outputs": [],
   "source": [
    "enem_sp = pd.read_csv('data/enem_2019-tratado.csv', sep=',', encoding='iso-8859-1')"
   ]
  },
  {
   "cell_type": "markdown",
   "id": "c3e546b4",
   "metadata": {},
   "source": [
    "## Medidas de dispersão"
   ]
  },
  {
   "cell_type": "code",
   "execution_count": null,
   "id": "594e16c7",
   "metadata": {},
   "outputs": [],
   "source": [
    "# Variância\n",
    "enem_sp.NOTA_MT.var()"
   ]
  },
  {
   "cell_type": "code",
   "execution_count": null,
   "id": "07ecb2f6",
   "metadata": {},
   "outputs": [],
   "source": [
    "enem_sp.NOTA_MT.std()"
   ]
  },
  {
   "cell_type": "code",
   "execution_count": null,
   "id": "a5ae33eb",
   "metadata": {},
   "outputs": [],
   "source": [
    "enem_sp.NOTA_MT.mean()"
   ]
  },
  {
   "cell_type": "code",
   "execution_count": null,
   "id": "41a14e8a",
   "metadata": {},
   "outputs": [],
   "source": [
    "# Desvio absoluto\n",
    "enem_sp.NOTA_MT.mad()"
   ]
  },
  {
   "cell_type": "code",
   "execution_count": null,
   "id": "83d7be85",
   "metadata": {},
   "outputs": [],
   "source": [
    "# Desvio aboluto\n",
    "(enem_sp.NOTA_MT - enem_sp.NOTA_MT.mean()).abs().mean()"
   ]
  },
  {
   "cell_type": "code",
   "execution_count": null,
   "id": "d6548df4",
   "metadata": {},
   "outputs": [],
   "source": [
    "enem_sp.NOTA_REDACAO.var()"
   ]
  },
  {
   "cell_type": "code",
   "execution_count": null,
   "id": "b28e9df5",
   "metadata": {},
   "outputs": [],
   "source": [
    "enem_sp.NOTA_REDACAO.std()"
   ]
  },
  {
   "cell_type": "code",
   "execution_count": null,
   "id": "809b7723",
   "metadata": {},
   "outputs": [],
   "source": [
    "enem_sp.describe()"
   ]
  },
  {
   "cell_type": "markdown",
   "id": "1a0a8ce9",
   "metadata": {},
   "source": [
    "## Medidas de posição"
   ]
  },
  {
   "cell_type": "code",
   "execution_count": null,
   "id": "5293cad8",
   "metadata": {},
   "outputs": [],
   "source": [
    "enem_sp.NOTA_MT.min()"
   ]
  },
  {
   "cell_type": "code",
   "execution_count": null,
   "id": "ce9d8943",
   "metadata": {},
   "outputs": [],
   "source": [
    "enem_sp.NOTA_MT.max()"
   ]
  },
  {
   "cell_type": "code",
   "execution_count": null,
   "id": "e1699f7a",
   "metadata": {},
   "outputs": [],
   "source": [
    "enem_sp.NOTA_MT.quantile(q=0.25)"
   ]
  },
  {
   "cell_type": "code",
   "execution_count": null,
   "id": "e176f28e",
   "metadata": {},
   "outputs": [],
   "source": [
    "# Mediana\n",
    "enem_sp.NOTA_MT.quantile(q=0.50)"
   ]
  },
  {
   "cell_type": "code",
   "execution_count": null,
   "id": "ac65c929",
   "metadata": {},
   "outputs": [],
   "source": [
    "enem_sp.NOTA_MT.quantile(q=0.75)"
   ]
  },
  {
   "cell_type": "markdown",
   "id": "3bfce9b3",
   "metadata": {},
   "source": [
    "## Gráfico Boxplot e Outliers"
   ]
  },
  {
   "cell_type": "code",
   "execution_count": null,
   "id": "a7e88680",
   "metadata": {},
   "outputs": [],
   "source": [
    "import matplotlib.pyplot as plt"
   ]
  },
  {
   "cell_type": "code",
   "execution_count": null,
   "id": "b7eda459",
   "metadata": {},
   "outputs": [],
   "source": [
    "plt.boxplot(enem_sp.NOTA_MT)\n",
    "plt.show()\n",
    "# Ao colocar o plt.show() as informações são omitidas"
   ]
  },
  {
   "cell_type": "markdown",
   "id": "d69c4f04",
   "metadata": {},
   "source": [
    "## Seaborn"
   ]
  },
  {
   "cell_type": "code",
   "execution_count": null,
   "id": "8187c917",
   "metadata": {},
   "outputs": [],
   "source": [
    "import seaborn as sns"
   ]
  },
  {
   "cell_type": "code",
   "execution_count": null,
   "id": "474ab4ef",
   "metadata": {},
   "outputs": [],
   "source": [
    "sns.boxplot(y='NOTA_MT', data=enem_sp);\n"
   ]
  },
  {
   "cell_type": "markdown",
   "id": "1a8034c0",
   "metadata": {},
   "source": [
    "## Plotly"
   ]
  },
  {
   "cell_type": "code",
   "execution_count": null,
   "id": "ecb20b7c",
   "metadata": {},
   "outputs": [],
   "source": [
    "import plotly.express as px"
   ]
  },
  {
   "cell_type": "code",
   "execution_count": null,
   "id": "e895d5a0",
   "metadata": {},
   "outputs": [],
   "source": [
    "grafico = px.box(enem_sp, y='NOTA_MT')\n",
    "grafico.show()"
   ]
  },
  {
   "cell_type": "code",
   "execution_count": null,
   "id": "631119f0",
   "metadata": {},
   "outputs": [],
   "source": [
    "sem_outliers = enem_sp.loc[enem_sp.NOTA_MT <= 902.9]"
   ]
  },
  {
   "cell_type": "code",
   "execution_count": null,
   "id": "d96e0faf",
   "metadata": {},
   "outputs": [],
   "source": [
    "sem_outliers = sem_outliers.loc[sem_outliers.NOTA_MT >= 359.1]"
   ]
  },
  {
   "cell_type": "code",
   "execution_count": null,
   "id": "41f3c976",
   "metadata": {},
   "outputs": [],
   "source": [
    "sem_outliers.head()"
   ]
  },
  {
   "cell_type": "code",
   "execution_count": null,
   "id": "80556e2f",
   "metadata": {},
   "outputs": [],
   "source": [
    "grafico = px.box(sem_outliers, y='NOTA_MT')\n",
    "grafico.show()\n",
    "# Recalcula os valores e mesmo assim terá algum outlier"
   ]
  },
  {
   "cell_type": "code",
   "execution_count": null,
   "id": "1ce985d8",
   "metadata": {},
   "outputs": [],
   "source": [
    "grafico = px.box(enem_sp, y='NOTA_CN')\n",
    "grafico.show()"
   ]
  },
  {
   "cell_type": "code",
   "execution_count": null,
   "id": "2289ee0e",
   "metadata": {},
   "outputs": [],
   "source": [
    "grafico = px.box(enem_sp, y='NOTA_CH')\n",
    "grafico.show()"
   ]
  },
  {
   "cell_type": "code",
   "execution_count": null,
   "id": "4ae15293",
   "metadata": {},
   "outputs": [],
   "source": [
    "grafico = px.box(enem_sp, y='NOTA_LC')\n",
    "grafico.show()"
   ]
  },
  {
   "cell_type": "code",
   "execution_count": null,
   "id": "34952af5",
   "metadata": {},
   "outputs": [],
   "source": [
    "grafico = px.box(enem_sp, x='SEXO', y='NOTA_REDACAO')\n",
    "grafico.show()"
   ]
  },
  {
   "cell_type": "code",
   "execution_count": null,
   "id": "ad526da1",
   "metadata": {},
   "outputs": [],
   "source": [
    "grafico = px.box(enem_sp, x='SEXO', y='NOTA_MT')\n",
    "grafico.show()"
   ]
  },
  {
   "cell_type": "code",
   "execution_count": null,
   "id": "3475be67",
   "metadata": {},
   "outputs": [],
   "source": [
    "grafico = px.box(enem_sp, x='RACA', y='NOTA_REDACAO')\n",
    "grafico.show()"
   ]
  },
  {
   "cell_type": "code",
   "execution_count": null,
   "id": "a8826824",
   "metadata": {},
   "outputs": [],
   "source": [
    "grafico = px.box(enem_sp, x='RACA', y='NOTA_MT')\n",
    "grafico.show()"
   ]
  },
  {
   "cell_type": "code",
   "execution_count": null,
   "id": "73f98d8b",
   "metadata": {},
   "outputs": [],
   "source": [
    "grafico = px.box(enem_sp, x='ESCOLA', y='NOTA_MT')\n",
    "grafico.show()"
   ]
  }
 ],
 "metadata": {
  "kernelspec": {
   "display_name": "Python 3 (ipykernel)",
   "language": "python",
   "name": "python3"
  },
  "language_info": {
   "codemirror_mode": {
    "name": "ipython",
    "version": 3
   },
   "file_extension": ".py",
   "mimetype": "text/x-python",
   "name": "python",
   "nbconvert_exporter": "python",
   "pygments_lexer": "ipython3",
   "version": "3.8.10"
  }
 },
 "nbformat": 4,
 "nbformat_minor": 5
}
