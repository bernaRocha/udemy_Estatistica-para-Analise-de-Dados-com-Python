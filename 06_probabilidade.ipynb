{
 "cells": [
  {
   "cell_type": "markdown",
   "id": "985fdd0c",
   "metadata": {},
   "source": [
    "# Probabilidade"
   ]
  },
  {
   "cell_type": "code",
   "execution_count": 2,
   "id": "2b58585f",
   "metadata": {},
   "outputs": [],
   "source": [
    "import numpy as np\n",
    "import pandas as pd"
   ]
  },
  {
   "cell_type": "code",
   "execution_count": 3,
   "id": "16637705",
   "metadata": {},
   "outputs": [],
   "source": [
    "enem_sp = pd.read_csv('data/enem_2019-tratado.csv', sep=',', encoding='iso-8859-1')"
   ]
  },
  {
   "cell_type": "code",
   "execution_count": 4,
   "id": "7d0f1e78",
   "metadata": {},
   "outputs": [],
   "source": [
    "enem_guarulhos = enem_sp.loc[enem_sp.NO_MUNICIPIO_RESIDENCIA == 'Guarulhos']"
   ]
  },
  {
   "cell_type": "code",
   "execution_count": 5,
   "id": "2b051dff",
   "metadata": {},
   "outputs": [],
   "source": [
    "enem_bauru = enem_sp.loc[enem_sp.NO_MUNICIPIO_RESIDENCIA == 'Bauru']"
   ]
  },
  {
   "cell_type": "code",
   "execution_count": 6,
   "id": "e6176ec9",
   "metadata": {},
   "outputs": [
    {
     "data": {
      "text/html": [
       "<div>\n",
       "<style scoped>\n",
       "    .dataframe tbody tr th:only-of-type {\n",
       "        vertical-align: middle;\n",
       "    }\n",
       "\n",
       "    .dataframe tbody tr th {\n",
       "        vertical-align: top;\n",
       "    }\n",
       "\n",
       "    .dataframe thead th {\n",
       "        text-align: right;\n",
       "    }\n",
       "</style>\n",
       "<table border=\"1\" class=\"dataframe\">\n",
       "  <thead>\n",
       "    <tr style=\"text-align: right;\">\n",
       "      <th></th>\n",
       "      <th>NU_INSCRICAO</th>\n",
       "      <th>NO_MUNICIPIO_RESIDENCIA</th>\n",
       "      <th>IDADE</th>\n",
       "      <th>SEXO</th>\n",
       "      <th>TP_ESTADO_CIVIL</th>\n",
       "      <th>RACA</th>\n",
       "      <th>TP_NACIONALIDADE</th>\n",
       "      <th>TP_ST_CONCLUSAO</th>\n",
       "      <th>ESCOLA</th>\n",
       "      <th>CO_ESCOLA</th>\n",
       "      <th>...</th>\n",
       "      <th>NOTA_MT</th>\n",
       "      <th>TP_LINGUA</th>\n",
       "      <th>TP_STATUS_REDACAO</th>\n",
       "      <th>COMP1</th>\n",
       "      <th>COMP2</th>\n",
       "      <th>COMP3</th>\n",
       "      <th>COMP4</th>\n",
       "      <th>COMP5</th>\n",
       "      <th>NOTA_REDACAO</th>\n",
       "      <th>INTERNET</th>\n",
       "    </tr>\n",
       "  </thead>\n",
       "  <tbody>\n",
       "    <tr>\n",
       "      <th>4</th>\n",
       "      <td>1,90E+11</td>\n",
       "      <td>Guarulhos</td>\n",
       "      <td>23</td>\n",
       "      <td>F</td>\n",
       "      <td>1</td>\n",
       "      <td>branca</td>\n",
       "      <td>1</td>\n",
       "      <td>1</td>\n",
       "      <td>nao_respondeu</td>\n",
       "      <td>NaN</td>\n",
       "      <td>...</td>\n",
       "      <td>796.1</td>\n",
       "      <td>ingles</td>\n",
       "      <td>1.0</td>\n",
       "      <td>160.0</td>\n",
       "      <td>200.0</td>\n",
       "      <td>180.0</td>\n",
       "      <td>180.0</td>\n",
       "      <td>160.0</td>\n",
       "      <td>880.0</td>\n",
       "      <td>sim</td>\n",
       "    </tr>\n",
       "    <tr>\n",
       "      <th>56</th>\n",
       "      <td>1,90E+11</td>\n",
       "      <td>Guarulhos</td>\n",
       "      <td>17</td>\n",
       "      <td>F</td>\n",
       "      <td>1</td>\n",
       "      <td>parda</td>\n",
       "      <td>1</td>\n",
       "      <td>2</td>\n",
       "      <td>publica</td>\n",
       "      <td>NaN</td>\n",
       "      <td>...</td>\n",
       "      <td>468.1</td>\n",
       "      <td>1</td>\n",
       "      <td>1.0</td>\n",
       "      <td>100.0</td>\n",
       "      <td>60.0</td>\n",
       "      <td>60.0</td>\n",
       "      <td>100.0</td>\n",
       "      <td>0.0</td>\n",
       "      <td>320.0</td>\n",
       "      <td>sim</td>\n",
       "    </tr>\n",
       "    <tr>\n",
       "      <th>69</th>\n",
       "      <td>1,90E+11</td>\n",
       "      <td>Guarulhos</td>\n",
       "      <td>27</td>\n",
       "      <td>M</td>\n",
       "      <td>1</td>\n",
       "      <td>não_declarado</td>\n",
       "      <td>1</td>\n",
       "      <td>1</td>\n",
       "      <td>nao_respondeu</td>\n",
       "      <td>NaN</td>\n",
       "      <td>...</td>\n",
       "      <td>743.8</td>\n",
       "      <td>ingles</td>\n",
       "      <td>1.0</td>\n",
       "      <td>120.0</td>\n",
       "      <td>180.0</td>\n",
       "      <td>120.0</td>\n",
       "      <td>120.0</td>\n",
       "      <td>160.0</td>\n",
       "      <td>700.0</td>\n",
       "      <td>sim</td>\n",
       "    </tr>\n",
       "    <tr>\n",
       "      <th>130</th>\n",
       "      <td>1,90E+11</td>\n",
       "      <td>Guarulhos</td>\n",
       "      <td>28</td>\n",
       "      <td>F</td>\n",
       "      <td>1</td>\n",
       "      <td>branca</td>\n",
       "      <td>1</td>\n",
       "      <td>1</td>\n",
       "      <td>nao_respondeu</td>\n",
       "      <td>NaN</td>\n",
       "      <td>...</td>\n",
       "      <td>415.1</td>\n",
       "      <td>ingles</td>\n",
       "      <td>1.0</td>\n",
       "      <td>160.0</td>\n",
       "      <td>120.0</td>\n",
       "      <td>160.0</td>\n",
       "      <td>120.0</td>\n",
       "      <td>100.0</td>\n",
       "      <td>660.0</td>\n",
       "      <td>sim</td>\n",
       "    </tr>\n",
       "    <tr>\n",
       "      <th>202</th>\n",
       "      <td>1,90E+11</td>\n",
       "      <td>Guarulhos</td>\n",
       "      <td>17</td>\n",
       "      <td>F</td>\n",
       "      <td>1</td>\n",
       "      <td>parda</td>\n",
       "      <td>1</td>\n",
       "      <td>2</td>\n",
       "      <td>publica</td>\n",
       "      <td>35005824.0</td>\n",
       "      <td>...</td>\n",
       "      <td>594.9</td>\n",
       "      <td>ingles</td>\n",
       "      <td>1.0</td>\n",
       "      <td>120.0</td>\n",
       "      <td>120.0</td>\n",
       "      <td>120.0</td>\n",
       "      <td>120.0</td>\n",
       "      <td>160.0</td>\n",
       "      <td>640.0</td>\n",
       "      <td>sim</td>\n",
       "    </tr>\n",
       "  </tbody>\n",
       "</table>\n",
       "<p>5 rows × 28 columns</p>\n",
       "</div>"
      ],
      "text/plain": [
       "    NU_INSCRICAO NO_MUNICIPIO_RESIDENCIA  IDADE SEXO  TP_ESTADO_CIVIL  \\\n",
       "4       1,90E+11               Guarulhos     23    F                1   \n",
       "56      1,90E+11               Guarulhos     17    F                1   \n",
       "69      1,90E+11               Guarulhos     27    M                1   \n",
       "130     1,90E+11               Guarulhos     28    F                1   \n",
       "202     1,90E+11               Guarulhos     17    F                1   \n",
       "\n",
       "              RACA  TP_NACIONALIDADE  TP_ST_CONCLUSAO         ESCOLA  \\\n",
       "4           branca                 1                1  nao_respondeu   \n",
       "56           parda                 1                2        publica   \n",
       "69   não_declarado                 1                1  nao_respondeu   \n",
       "130         branca                 1                1  nao_respondeu   \n",
       "202          parda                 1                2        publica   \n",
       "\n",
       "      CO_ESCOLA  ... NOTA_MT  TP_LINGUA  TP_STATUS_REDACAO  COMP1  COMP2  \\\n",
       "4           NaN  ...   796.1     ingles                1.0  160.0  200.0   \n",
       "56          NaN  ...   468.1          1                1.0  100.0   60.0   \n",
       "69          NaN  ...   743.8     ingles                1.0  120.0  180.0   \n",
       "130         NaN  ...   415.1     ingles                1.0  160.0  120.0   \n",
       "202  35005824.0  ...   594.9     ingles                1.0  120.0  120.0   \n",
       "\n",
       "     COMP3  COMP4  COMP5  NOTA_REDACAO INTERNET  \n",
       "4    180.0  180.0  160.0         880.0      sim  \n",
       "56    60.0  100.0    0.0         320.0      sim  \n",
       "69   120.0  120.0  160.0         700.0      sim  \n",
       "130  160.0  120.0  100.0         660.0      sim  \n",
       "202  120.0  120.0  160.0         640.0      sim  \n",
       "\n",
       "[5 rows x 28 columns]"
      ]
     },
     "execution_count": 6,
     "metadata": {},
     "output_type": "execute_result"
    }
   ],
   "source": [
    "enem_guarulhos.head()"
   ]
  },
  {
   "cell_type": "code",
   "execution_count": 7,
   "id": "6901c8c3",
   "metadata": {},
   "outputs": [
    {
     "data": {
      "text/html": [
       "<div>\n",
       "<style scoped>\n",
       "    .dataframe tbody tr th:only-of-type {\n",
       "        vertical-align: middle;\n",
       "    }\n",
       "\n",
       "    .dataframe tbody tr th {\n",
       "        vertical-align: top;\n",
       "    }\n",
       "\n",
       "    .dataframe thead th {\n",
       "        text-align: right;\n",
       "    }\n",
       "</style>\n",
       "<table border=\"1\" class=\"dataframe\">\n",
       "  <thead>\n",
       "    <tr style=\"text-align: right;\">\n",
       "      <th></th>\n",
       "      <th>NU_INSCRICAO</th>\n",
       "      <th>NO_MUNICIPIO_RESIDENCIA</th>\n",
       "      <th>IDADE</th>\n",
       "      <th>SEXO</th>\n",
       "      <th>TP_ESTADO_CIVIL</th>\n",
       "      <th>RACA</th>\n",
       "      <th>TP_NACIONALIDADE</th>\n",
       "      <th>TP_ST_CONCLUSAO</th>\n",
       "      <th>ESCOLA</th>\n",
       "      <th>CO_ESCOLA</th>\n",
       "      <th>...</th>\n",
       "      <th>NOTA_MT</th>\n",
       "      <th>TP_LINGUA</th>\n",
       "      <th>TP_STATUS_REDACAO</th>\n",
       "      <th>COMP1</th>\n",
       "      <th>COMP2</th>\n",
       "      <th>COMP3</th>\n",
       "      <th>COMP4</th>\n",
       "      <th>COMP5</th>\n",
       "      <th>NOTA_REDACAO</th>\n",
       "      <th>INTERNET</th>\n",
       "    </tr>\n",
       "  </thead>\n",
       "  <tbody>\n",
       "    <tr>\n",
       "      <th>477</th>\n",
       "      <td>1,90E+11</td>\n",
       "      <td>Bauru</td>\n",
       "      <td>21</td>\n",
       "      <td>M</td>\n",
       "      <td>1</td>\n",
       "      <td>branca</td>\n",
       "      <td>1</td>\n",
       "      <td>1</td>\n",
       "      <td>nao_respondeu</td>\n",
       "      <td>NaN</td>\n",
       "      <td>...</td>\n",
       "      <td>664.1</td>\n",
       "      <td>ingles</td>\n",
       "      <td>1.0</td>\n",
       "      <td>100.0</td>\n",
       "      <td>120.0</td>\n",
       "      <td>120.0</td>\n",
       "      <td>120.0</td>\n",
       "      <td>100.0</td>\n",
       "      <td>560.0</td>\n",
       "      <td>sim</td>\n",
       "    </tr>\n",
       "    <tr>\n",
       "      <th>928</th>\n",
       "      <td>1,90E+11</td>\n",
       "      <td>Bauru</td>\n",
       "      <td>17</td>\n",
       "      <td>M</td>\n",
       "      <td>1</td>\n",
       "      <td>amarela</td>\n",
       "      <td>1</td>\n",
       "      <td>2</td>\n",
       "      <td>publica</td>\n",
       "      <td>35025240.0</td>\n",
       "      <td>...</td>\n",
       "      <td>740.3</td>\n",
       "      <td>ingles</td>\n",
       "      <td>1.0</td>\n",
       "      <td>140.0</td>\n",
       "      <td>120.0</td>\n",
       "      <td>120.0</td>\n",
       "      <td>140.0</td>\n",
       "      <td>100.0</td>\n",
       "      <td>620.0</td>\n",
       "      <td>sim</td>\n",
       "    </tr>\n",
       "    <tr>\n",
       "      <th>1070</th>\n",
       "      <td>1,90E+11</td>\n",
       "      <td>Bauru</td>\n",
       "      <td>19</td>\n",
       "      <td>M</td>\n",
       "      <td>1</td>\n",
       "      <td>branca</td>\n",
       "      <td>1</td>\n",
       "      <td>1</td>\n",
       "      <td>nao_respondeu</td>\n",
       "      <td>NaN</td>\n",
       "      <td>...</td>\n",
       "      <td>789.2</td>\n",
       "      <td>ingles</td>\n",
       "      <td>1.0</td>\n",
       "      <td>160.0</td>\n",
       "      <td>200.0</td>\n",
       "      <td>200.0</td>\n",
       "      <td>200.0</td>\n",
       "      <td>200.0</td>\n",
       "      <td>960.0</td>\n",
       "      <td>sim</td>\n",
       "    </tr>\n",
       "    <tr>\n",
       "      <th>1235</th>\n",
       "      <td>1,90E+11</td>\n",
       "      <td>Bauru</td>\n",
       "      <td>18</td>\n",
       "      <td>F</td>\n",
       "      <td>1</td>\n",
       "      <td>parda</td>\n",
       "      <td>1</td>\n",
       "      <td>2</td>\n",
       "      <td>privada</td>\n",
       "      <td>35115435.0</td>\n",
       "      <td>...</td>\n",
       "      <td>71.5</td>\n",
       "      <td>ingles</td>\n",
       "      <td>1.0</td>\n",
       "      <td>140.0</td>\n",
       "      <td>140.0</td>\n",
       "      <td>140.0</td>\n",
       "      <td>140.0</td>\n",
       "      <td>120.0</td>\n",
       "      <td>680.0</td>\n",
       "      <td>sim</td>\n",
       "    </tr>\n",
       "    <tr>\n",
       "      <th>1506</th>\n",
       "      <td>1,90E+11</td>\n",
       "      <td>Bauru</td>\n",
       "      <td>19</td>\n",
       "      <td>M</td>\n",
       "      <td>1</td>\n",
       "      <td>branca</td>\n",
       "      <td>1</td>\n",
       "      <td>1</td>\n",
       "      <td>nao_respondeu</td>\n",
       "      <td>NaN</td>\n",
       "      <td>...</td>\n",
       "      <td>533.8</td>\n",
       "      <td>1</td>\n",
       "      <td>1.0</td>\n",
       "      <td>120.0</td>\n",
       "      <td>140.0</td>\n",
       "      <td>120.0</td>\n",
       "      <td>100.0</td>\n",
       "      <td>140.0</td>\n",
       "      <td>620.0</td>\n",
       "      <td>sim</td>\n",
       "    </tr>\n",
       "  </tbody>\n",
       "</table>\n",
       "<p>5 rows × 28 columns</p>\n",
       "</div>"
      ],
      "text/plain": [
       "     NU_INSCRICAO NO_MUNICIPIO_RESIDENCIA  IDADE SEXO  TP_ESTADO_CIVIL  \\\n",
       "477      1,90E+11                   Bauru     21    M                1   \n",
       "928      1,90E+11                   Bauru     17    M                1   \n",
       "1070     1,90E+11                   Bauru     19    M                1   \n",
       "1235     1,90E+11                   Bauru     18    F                1   \n",
       "1506     1,90E+11                   Bauru     19    M                1   \n",
       "\n",
       "         RACA  TP_NACIONALIDADE  TP_ST_CONCLUSAO         ESCOLA   CO_ESCOLA  \\\n",
       "477    branca                 1                1  nao_respondeu         NaN   \n",
       "928   amarela                 1                2        publica  35025240.0   \n",
       "1070   branca                 1                1  nao_respondeu         NaN   \n",
       "1235    parda                 1                2        privada  35115435.0   \n",
       "1506   branca                 1                1  nao_respondeu         NaN   \n",
       "\n",
       "      ... NOTA_MT  TP_LINGUA  TP_STATUS_REDACAO  COMP1  COMP2  COMP3  COMP4  \\\n",
       "477   ...   664.1     ingles                1.0  100.0  120.0  120.0  120.0   \n",
       "928   ...   740.3     ingles                1.0  140.0  120.0  120.0  140.0   \n",
       "1070  ...   789.2     ingles                1.0  160.0  200.0  200.0  200.0   \n",
       "1235  ...    71.5     ingles                1.0  140.0  140.0  140.0  140.0   \n",
       "1506  ...   533.8          1                1.0  120.0  140.0  120.0  100.0   \n",
       "\n",
       "      COMP5  NOTA_REDACAO INTERNET  \n",
       "477   100.0         560.0      sim  \n",
       "928   100.0         620.0      sim  \n",
       "1070  200.0         960.0      sim  \n",
       "1235  120.0         680.0      sim  \n",
       "1506  140.0         620.0      sim  \n",
       "\n",
       "[5 rows x 28 columns]"
      ]
     },
     "execution_count": 7,
     "metadata": {},
     "output_type": "execute_result"
    }
   ],
   "source": [
    "enem_bauru.head()"
   ]
  },
  {
   "cell_type": "code",
   "execution_count": 8,
   "id": "ba20fb9d",
   "metadata": {},
   "outputs": [
    {
     "data": {
      "text/plain": [
       "15647"
      ]
     },
     "execution_count": 8,
     "metadata": {},
     "output_type": "execute_result"
    }
   ],
   "source": [
    "len(enem_guarulhos)"
   ]
  },
  {
   "cell_type": "code",
   "execution_count": 9,
   "id": "0e4a5006",
   "metadata": {},
   "outputs": [
    {
     "data": {
      "text/plain": [
       "4171"
      ]
     },
     "execution_count": 9,
     "metadata": {},
     "output_type": "execute_result"
    }
   ],
   "source": [
    "len(enem_bauru)"
   ]
  },
  {
   "cell_type": "code",
   "execution_count": 15,
   "id": "23932cfc",
   "metadata": {},
   "outputs": [],
   "source": [
    "# Criando a função de probabilidade\n",
    "def probab(A, E):\n",
    "    resultado = (A/E) * 100\n",
    "    print(f\"A probabilidade é de {resultado:.2f} %\")"
   ]
  },
  {
   "cell_type": "code",
   "execution_count": 20,
   "id": "b828a709",
   "metadata": {},
   "outputs": [
    {
     "name": "stdout",
     "output_type": "stream",
     "text": [
      "Retirar um vestibulando de Guarulhos: \n",
      "A probabilidade é de 3.13 %\n"
     ]
    }
   ],
   "source": [
    "print('Retirar um vestibulando de Guarulhos: ')\n",
    "probab(len(enem_guarulhos), len(enem_sp))"
   ]
  },
  {
   "cell_type": "code",
   "execution_count": 21,
   "id": "8522d5ca",
   "metadata": {},
   "outputs": [
    {
     "name": "stdout",
     "output_type": "stream",
     "text": [
      "Retirar um vestibulando de Bauru: \n",
      "A probabilidade é de 0.83 %\n"
     ]
    }
   ],
   "source": [
    "print('Retirar um vestibulando de Bauru: ')\n",
    "probab(len(enem_bauru), len(enem_sp))"
   ]
  },
  {
   "cell_type": "markdown",
   "id": "1d279fba",
   "metadata": {},
   "source": [
    "## Probabilidade de não ocorrer um evento"
   ]
  },
  {
   "cell_type": "code",
   "execution_count": 22,
   "id": "a67df4ad",
   "metadata": {},
   "outputs": [],
   "source": [
    "def probab_nao(A, E):\n",
    "    resultado = (1 - (A/E)) * 100\n",
    "    print(f\"A probabilidade de não correr é: {resultado:.2f} %\")"
   ]
  },
  {
   "cell_type": "code",
   "execution_count": 24,
   "id": "7e68732c",
   "metadata": {},
   "outputs": [
    {
     "name": "stdout",
     "output_type": "stream",
     "text": [
      "A probabilidade de não retirar um vestibulando de Guarulhos\n",
      "A probabilidade de não correr é: 96.87 %\n"
     ]
    }
   ],
   "source": [
    "print('A probabilidade de não retirar um vestibulando de Guarulhos')\n",
    "probab_nao(len(enem_guarulhos), len(enem_sp))"
   ]
  },
  {
   "cell_type": "code",
   "execution_count": 33,
   "id": "e7f27e9e",
   "metadata": {},
   "outputs": [
    {
     "name": "stdout",
     "output_type": "stream",
     "text": [
      "A probabilidade de NÃO retirar um vestibulando de Guarulhos e nem de Bauru \n",
      "\n",
      "A probabilidade de não correr é: 96.04 %\n"
     ]
    }
   ],
   "source": [
    "print('A probabilidade de NÃO retirar um vestibulando de Guarulhos e nem de Bauru \\n')\n",
    "probab_nao(len(enem_guarulhos)+len(enem_bauru), len(enem_sp))"
   ]
  },
  {
   "cell_type": "markdown",
   "id": "dcf1b62d",
   "metadata": {},
   "source": [
    "## Probabilidade de união mutuamente exclusivos (AUB)"
   ]
  },
  {
   "cell_type": "code",
   "execution_count": 34,
   "id": "af26333b",
   "metadata": {},
   "outputs": [],
   "source": [
    "# P (AUB) = P(A)+P(B) - P(A∩B) "
   ]
  },
  {
   "cell_type": "code",
   "execution_count": 43,
   "id": "a151fce6",
   "metadata": {},
   "outputs": [],
   "source": [
    "def probab_uniao(A, B, E):\n",
    "    resultado = (A/E + B/E) * 100\n",
    "    print(f\"A probabilidade é de {resultado:.2f} %\")"
   ]
  },
  {
   "cell_type": "code",
   "execution_count": 44,
   "id": "8a10dd78",
   "metadata": {},
   "outputs": [
    {
     "name": "stdout",
     "output_type": "stream",
     "text": [
      "A probabilidade de retirar um vestibulando de Guarulhos ou de Bauru\n",
      "A probabilidade é de 3.96 %\n"
     ]
    }
   ],
   "source": [
    "print('A probabilidade de retirar um vestibulando de Guarulhos ou de Bauru')\n",
    "probab_uniao(len(enem_guarulhos), len(enem_bauru), len(enem_sp))"
   ]
  },
  {
   "cell_type": "markdown",
   "id": "5d717790",
   "metadata": {},
   "source": [
    "## Probabilidade da Intersecção de dois eventos"
   ]
  },
  {
   "cell_type": "code",
   "execution_count": 56,
   "id": "621ccc26",
   "metadata": {},
   "outputs": [],
   "source": [
    "def probab_inter(A, B, E):\n",
    "    resultado = ((A/E) * (B/E)) * 100\n",
    "    print(f\"A probabilidade é de {resultado:.3f} %\")"
   ]
  },
  {
   "cell_type": "code",
   "execution_count": 57,
   "id": "1736ed75",
   "metadata": {},
   "outputs": [
    {
     "name": "stdout",
     "output_type": "stream",
     "text": [
      "A probabilidade de retirar um vestibulando de Guarulhos E de Bauru (com reposição)\n",
      "A probabilidade é de 0.026 %\n"
     ]
    }
   ],
   "source": [
    "print('A probabilidade de retirar um vestibulando de Guarulhos E de Bauru (com reposição)')\n",
    "probab_inter(len(enem_guarulhos), len(enem_bauru), len(enem_sp))"
   ]
  },
  {
   "cell_type": "markdown",
   "id": "aab6087d",
   "metadata": {},
   "source": [
    "## Probabilidade condicional"
   ]
  },
  {
   "cell_type": "code",
   "execution_count": 74,
   "id": "160ba51a",
   "metadata": {},
   "outputs": [],
   "source": [
    "def probab_cond(AB, B):\n",
    "    resultado = (AB / B) * 100\n",
    "    print(f\"A probabilidade é de {resultado:.2f} %\")"
   ]
  },
  {
   "cell_type": "code",
   "execution_count": 75,
   "id": "1be9e15f",
   "metadata": {},
   "outputs": [
    {
     "data": {
      "text/html": [
       "<div>\n",
       "<style scoped>\n",
       "    .dataframe tbody tr th:only-of-type {\n",
       "        vertical-align: middle;\n",
       "    }\n",
       "\n",
       "    .dataframe tbody tr th {\n",
       "        vertical-align: top;\n",
       "    }\n",
       "\n",
       "    .dataframe thead th {\n",
       "        text-align: right;\n",
       "    }\n",
       "</style>\n",
       "<table border=\"1\" class=\"dataframe\">\n",
       "  <thead>\n",
       "    <tr style=\"text-align: right;\">\n",
       "      <th></th>\n",
       "      <th>NU_INSCRICAO</th>\n",
       "      <th>NO_MUNICIPIO_RESIDENCIA</th>\n",
       "      <th>IDADE</th>\n",
       "      <th>SEXO</th>\n",
       "      <th>TP_ESTADO_CIVIL</th>\n",
       "      <th>RACA</th>\n",
       "      <th>TP_NACIONALIDADE</th>\n",
       "      <th>TP_ST_CONCLUSAO</th>\n",
       "      <th>ESCOLA</th>\n",
       "      <th>CO_ESCOLA</th>\n",
       "      <th>...</th>\n",
       "      <th>NOTA_MT</th>\n",
       "      <th>TP_LINGUA</th>\n",
       "      <th>TP_STATUS_REDACAO</th>\n",
       "      <th>COMP1</th>\n",
       "      <th>COMP2</th>\n",
       "      <th>COMP3</th>\n",
       "      <th>COMP4</th>\n",
       "      <th>COMP5</th>\n",
       "      <th>NOTA_REDACAO</th>\n",
       "      <th>INTERNET</th>\n",
       "    </tr>\n",
       "  </thead>\n",
       "  <tbody>\n",
       "    <tr>\n",
       "      <th>1</th>\n",
       "      <td>1,90E+11</td>\n",
       "      <td>São Paulo</td>\n",
       "      <td>17</td>\n",
       "      <td>F</td>\n",
       "      <td>1</td>\n",
       "      <td>parda</td>\n",
       "      <td>1</td>\n",
       "      <td>2</td>\n",
       "      <td>privada</td>\n",
       "      <td>15567761.0</td>\n",
       "      <td>...</td>\n",
       "      <td>731.8</td>\n",
       "      <td>ingles</td>\n",
       "      <td>1.0</td>\n",
       "      <td>160.0</td>\n",
       "      <td>120.0</td>\n",
       "      <td>200.0</td>\n",
       "      <td>200.0</td>\n",
       "      <td>200.0</td>\n",
       "      <td>880.0</td>\n",
       "      <td>nao</td>\n",
       "    </tr>\n",
       "    <tr>\n",
       "      <th>3</th>\n",
       "      <td>1,90E+11</td>\n",
       "      <td>Embu-Guaçu</td>\n",
       "      <td>17</td>\n",
       "      <td>F</td>\n",
       "      <td>1</td>\n",
       "      <td>parda</td>\n",
       "      <td>1</td>\n",
       "      <td>2</td>\n",
       "      <td>publica</td>\n",
       "      <td>NaN</td>\n",
       "      <td>...</td>\n",
       "      <td>419.2</td>\n",
       "      <td>ingles</td>\n",
       "      <td>1.0</td>\n",
       "      <td>120.0</td>\n",
       "      <td>120.0</td>\n",
       "      <td>120.0</td>\n",
       "      <td>120.0</td>\n",
       "      <td>80.0</td>\n",
       "      <td>560.0</td>\n",
       "      <td>sim</td>\n",
       "    </tr>\n",
       "    <tr>\n",
       "      <th>7</th>\n",
       "      <td>1,90E+11</td>\n",
       "      <td>Santo André</td>\n",
       "      <td>20</td>\n",
       "      <td>F</td>\n",
       "      <td>1</td>\n",
       "      <td>parda</td>\n",
       "      <td>1</td>\n",
       "      <td>1</td>\n",
       "      <td>nao_respondeu</td>\n",
       "      <td>NaN</td>\n",
       "      <td>...</td>\n",
       "      <td>508.5</td>\n",
       "      <td>1</td>\n",
       "      <td>1.0</td>\n",
       "      <td>120.0</td>\n",
       "      <td>120.0</td>\n",
       "      <td>120.0</td>\n",
       "      <td>100.0</td>\n",
       "      <td>80.0</td>\n",
       "      <td>540.0</td>\n",
       "      <td>sim</td>\n",
       "    </tr>\n",
       "    <tr>\n",
       "      <th>9</th>\n",
       "      <td>1,90E+11</td>\n",
       "      <td>Santo André</td>\n",
       "      <td>44</td>\n",
       "      <td>F</td>\n",
       "      <td>2</td>\n",
       "      <td>parda</td>\n",
       "      <td>1</td>\n",
       "      <td>1</td>\n",
       "      <td>nao_respondeu</td>\n",
       "      <td>NaN</td>\n",
       "      <td>...</td>\n",
       "      <td>488.1</td>\n",
       "      <td>1</td>\n",
       "      <td>1.0</td>\n",
       "      <td>120.0</td>\n",
       "      <td>120.0</td>\n",
       "      <td>120.0</td>\n",
       "      <td>120.0</td>\n",
       "      <td>40.0</td>\n",
       "      <td>520.0</td>\n",
       "      <td>sim</td>\n",
       "    </tr>\n",
       "    <tr>\n",
       "      <th>11</th>\n",
       "      <td>1,90E+11</td>\n",
       "      <td>Guará</td>\n",
       "      <td>17</td>\n",
       "      <td>F</td>\n",
       "      <td>1</td>\n",
       "      <td>parda</td>\n",
       "      <td>1</td>\n",
       "      <td>2</td>\n",
       "      <td>publica</td>\n",
       "      <td>35023310.0</td>\n",
       "      <td>...</td>\n",
       "      <td>535.1</td>\n",
       "      <td>ingles</td>\n",
       "      <td>1.0</td>\n",
       "      <td>140.0</td>\n",
       "      <td>120.0</td>\n",
       "      <td>140.0</td>\n",
       "      <td>160.0</td>\n",
       "      <td>120.0</td>\n",
       "      <td>680.0</td>\n",
       "      <td>sim</td>\n",
       "    </tr>\n",
       "  </tbody>\n",
       "</table>\n",
       "<p>5 rows × 28 columns</p>\n",
       "</div>"
      ],
      "text/plain": [
       "   NU_INSCRICAO NO_MUNICIPIO_RESIDENCIA  IDADE SEXO  TP_ESTADO_CIVIL   RACA  \\\n",
       "1      1,90E+11               São Paulo     17    F                1  parda   \n",
       "3      1,90E+11              Embu-Guaçu     17    F                1  parda   \n",
       "7      1,90E+11             Santo André     20    F                1  parda   \n",
       "9      1,90E+11             Santo André     44    F                2  parda   \n",
       "11     1,90E+11                   Guará     17    F                1  parda   \n",
       "\n",
       "    TP_NACIONALIDADE  TP_ST_CONCLUSAO         ESCOLA   CO_ESCOLA  ... NOTA_MT  \\\n",
       "1                  1                2        privada  15567761.0  ...   731.8   \n",
       "3                  1                2        publica         NaN  ...   419.2   \n",
       "7                  1                1  nao_respondeu         NaN  ...   508.5   \n",
       "9                  1                1  nao_respondeu         NaN  ...   488.1   \n",
       "11                 1                2        publica  35023310.0  ...   535.1   \n",
       "\n",
       "    TP_LINGUA  TP_STATUS_REDACAO  COMP1  COMP2  COMP3  COMP4  COMP5  \\\n",
       "1      ingles                1.0  160.0  120.0  200.0  200.0  200.0   \n",
       "3      ingles                1.0  120.0  120.0  120.0  120.0   80.0   \n",
       "7           1                1.0  120.0  120.0  120.0  100.0   80.0   \n",
       "9           1                1.0  120.0  120.0  120.0  120.0   40.0   \n",
       "11     ingles                1.0  140.0  120.0  140.0  160.0  120.0   \n",
       "\n",
       "    NOTA_REDACAO INTERNET  \n",
       "1          880.0      nao  \n",
       "3          560.0      sim  \n",
       "7          540.0      sim  \n",
       "9          520.0      sim  \n",
       "11         680.0      sim  \n",
       "\n",
       "[5 rows x 28 columns]"
      ]
     },
     "execution_count": 75,
     "metadata": {},
     "output_type": "execute_result"
    }
   ],
   "source": [
    "mulher = enem_sp.loc[enem_sp.SEXO == 'F']\n",
    "mulher_parda = mulher.loc[mulher.RACA == 'parda']\n",
    "mulher_parda.head()"
   ]
  },
  {
   "cell_type": "code",
   "execution_count": 76,
   "id": "edba226b",
   "metadata": {},
   "outputs": [
    {
     "name": "stdout",
     "output_type": "stream",
     "text": [
      "A probabilidade de retirar uma mulher parda\n",
      "A probabilidade é de 30.76 %\n"
     ]
    }
   ],
   "source": [
    "print('A probabilidade de retirar uma mulher parda')\n",
    "probab_cond(len(mulher_parda),len(mulher))"
   ]
  }
 ],
 "metadata": {
  "kernelspec": {
   "display_name": "Python 3.10.8 64-bit",
   "language": "python",
   "name": "python3"
  },
  "language_info": {
   "codemirror_mode": {
    "name": "ipython",
    "version": 3
   },
   "file_extension": ".py",
   "mimetype": "text/x-python",
   "name": "python",
   "nbconvert_exporter": "python",
   "pygments_lexer": "ipython3",
   "version": "3.10.8"
  },
  "vscode": {
   "interpreter": {
    "hash": "e7370f93d1d0cde622a1f8e1c04877d8463912d04d973331ad4851f04de6915a"
   }
  }
 },
 "nbformat": 4,
 "nbformat_minor": 5
}
